{
 "cells": [
  {
   "cell_type": "code",
   "execution_count": null,
   "metadata": {},
   "outputs": [
    {
     "name": "stdout",
     "output_type": "stream",
     "text": [
      "Note: you may need to restart the kernel to use updated packages.\n",
      "Note: you may need to restart the kernel to use updated packages.\n",
      "Requirement already satisfied: ollama in ./venv/lib/python3.12/site-packages (0.4.7)\n",
      "Requirement already satisfied: httpx<0.29,>=0.27 in ./venv/lib/python3.12/site-packages (from ollama) (0.28.1)\n",
      "Requirement already satisfied: pydantic<3.0.0,>=2.9.0 in ./venv/lib/python3.12/site-packages (from ollama) (2.10.6)\n",
      "Requirement already satisfied: anyio in ./venv/lib/python3.12/site-packages (from httpx<0.29,>=0.27->ollama) (4.8.0)\n",
      "Requirement already satisfied: certifi in ./venv/lib/python3.12/site-packages (from httpx<0.29,>=0.27->ollama) (2025.1.31)\n",
      "Requirement already satisfied: httpcore==1.* in ./venv/lib/python3.12/site-packages (from httpx<0.29,>=0.27->ollama) (1.0.7)\n",
      "Requirement already satisfied: idna in ./venv/lib/python3.12/site-packages (from httpx<0.29,>=0.27->ollama) (3.10)\n",
      "Requirement already satisfied: h11<0.15,>=0.13 in ./venv/lib/python3.12/site-packages (from httpcore==1.*->httpx<0.29,>=0.27->ollama) (0.14.0)\n",
      "Requirement already satisfied: annotated-types>=0.6.0 in ./venv/lib/python3.12/site-packages (from pydantic<3.0.0,>=2.9.0->ollama) (0.7.0)\n",
      "Requirement already satisfied: pydantic-core==2.27.2 in ./venv/lib/python3.12/site-packages (from pydantic<3.0.0,>=2.9.0->ollama) (2.27.2)\n",
      "Requirement already satisfied: typing-extensions>=4.12.2 in ./venv/lib/python3.12/site-packages (from pydantic<3.0.0,>=2.9.0->ollama) (4.12.2)\n",
      "Requirement already satisfied: sniffio>=1.1 in ./venv/lib/python3.12/site-packages (from anyio->httpx<0.29,>=0.27->ollama) (1.3.1)\n",
      "Note: you may need to restart the kernel to use updated packages.\n",
      "Note: you may need to restart the kernel to use updated packages.\n",
      "Note: you may need to restart the kernel to use updated packages.\n"
     ]
    }
   ],
   "source": [
    "%pip install --quiet --upgrade langchain langchain-text-splitters langchain-community langgraph\n",
    "%pip install -qU langsmith\n",
    "%pip install -qU langchain-ollama\n",
    "%pip install -U ollama\n",
    "%pip install -qU langchain-chroma\n",
    "%pip install -qU pypdf"
   ]
  },
  {
   "cell_type": "code",
   "execution_count": 14,
   "metadata": {},
   "outputs": [],
   "source": [
    "from dotenv import load_dotenv\n",
    "import os\n",
    "\n",
    "# Загружаем переменные из .env\n",
    "load_dotenv()\n",
    "\n",
    "# Получаем переменные окружения\n",
    "LANGSMITH_API_KEY = os.getenv(\"LANGSMITH_API_KEY\")"
   ]
  },
  {
   "cell_type": "code",
   "execution_count": 15,
   "metadata": {},
   "outputs": [],
   "source": [
    "os.environ[\"LANGSMITH_TRACING\"] = \"true\"\n",
    "os.environ[\"LANGSMITH_API_KEY\"] = LANGSMITH_API_KEY"
   ]
  },
  {
   "cell_type": "code",
   "execution_count": 16,
   "metadata": {},
   "outputs": [],
   "source": [
    "from langchain_ollama import ChatOllama\n",
    "\n",
    "llm = ChatOllama(\n",
    "    model=\"llama3.1\",\n",
    "    temperature=1\n",
    ")"
   ]
  },
  {
   "cell_type": "code",
   "execution_count": 17,
   "metadata": {},
   "outputs": [],
   "source": [
    "from langchain_ollama import OllamaEmbeddings\n",
    "\n",
    "embeddings = OllamaEmbeddings(model=\"llama3.1\")"
   ]
  },
  {
   "cell_type": "code",
   "execution_count": 18,
   "metadata": {},
   "outputs": [],
   "source": [
    "from langchain_chroma import Chroma\n",
    "\n",
    "vector_store = Chroma(embedding_function=embeddings)"
   ]
  },
  {
   "cell_type": "code",
   "execution_count": 19,
   "metadata": {},
   "outputs": [],
   "source": [
    "# from langchain_core.messages import AIMessage\n",
    "\n",
    "# messages = [\n",
    "#     (\n",
    "#         \"system\",\n",
    "#         \"You are a helpful assistant who gives clear, useful and formal answers, no fantasizing, no cheating. Gives answers in RUSSIAN LANGUAGE!\",\n",
    "#     ),\n",
    "#     (\"human\", \"I love programming.\"),\n",
    "# ]\n",
    "# ai_msg = llm.invoke(messages)\n",
    "# ai_msg"
   ]
  },
  {
   "cell_type": "code",
   "execution_count": 20,
   "metadata": {},
   "outputs": [],
   "source": [
    "import bs4\n",
    "from langchain import hub\n",
    "from langchain.prompts import PromptTemplate\n",
    "from langchain_community.document_loaders import WebBaseLoader\n",
    "from langchain_core.documents import Document\n",
    "from langchain_text_splitters import RecursiveCharacterTextSplitter\n",
    "from langgraph.graph import START, StateGraph\n",
    "from typing_extensions import List, TypedDict\n",
    "from langchain_community.document_loaders import PyPDFLoader\n",
    "\n",
    "file_path = (\"docs/Хакатон 2_описание задания.pdf\")\n",
    "loader = PyPDFLoader(file_path)\n",
    "pages = []\n",
    "async for page in loader.alazy_load():\n",
    "    pages.append(page)\n",
    "# print(f\"{pages[0].metadata}\\n\")\n",
    "# print(pages[0].page_content)"
   ]
  },
  {
   "cell_type": "code",
   "execution_count": 21,
   "metadata": {},
   "outputs": [],
   "source": [
    "\n",
    "text_splitter = RecursiveCharacterTextSplitter(chunk_size=1000, chunk_overlap=200)\n",
    "all_splits = text_splitter.split_documents(pages)\n",
    "# print(f\"Split blog post into {len(all_splits)} sub-documents.\")\n",
    "# print(all_splits[0])"
   ]
  },
  {
   "cell_type": "code",
   "execution_count": 22,
   "metadata": {},
   "outputs": [],
   "source": [
    "\n",
    "# Index chunks\n",
    "document_ids = vector_store.add_documents(documents=all_splits)\n",
    "# print(f\"Indexed {len(document_ids)} documents.\")\n"
   ]
  },
  {
   "cell_type": "code",
   "execution_count": 23,
   "metadata": {},
   "outputs": [
    {
     "name": "stdout",
     "output_type": "stream",
     "text": [
      " Решение не должно требовать существенного увеличения программно-\n",
      "технических ресурсов.\n",
      " При создании решения должны быть минимизированы трудозатраты, \n",
      "особенно программистов.\n",
      " Если будут использоваться сторонние решения, то продукт должен \n",
      "быть open-source, лицензионное соглашение должно позволять \n",
      "использовать его в коммерческих целях.\n"
     ]
    }
   ],
   "source": [
    "query = \"Какое задание на хакатоне?\"\n",
    "docs = vector_store.similarity_search(query)\n",
    "print(docs[0].page_content)"
   ]
  },
  {
   "cell_type": "code",
   "execution_count": 24,
   "metadata": {},
   "outputs": [],
   "source": [
    "# Получаем текущий промпт\n",
    "prompt = hub.pull(\"rlm/rag-prompt\")\n",
    "\n",
    "# Создаём новый промпт с изменённым текстом\n",
    "new_prompt = PromptTemplate(\n",
    "    input_variables=prompt.input_variables,\n",
    "    template=(\n",
    "        \"You are an assistant for question-answering tasks. Use the following pieces of retrieved context to answer the question. \"\n",
    "        \"If you don't know the answer, just say that you don't know. Use three sentences maximum and keep the answer concise. \"\n",
    "        \"Gives answers in RUSSIAN LANGUAGE!\\n\"\n",
    "        \"Question: {question}\\n\"\n",
    "        \"Context: {context}\\n\"\n",
    "        \"Answer:\"\n",
    "    )\n",
    ")\n",
    "\n",
    "# example_messages = new_prompt.invoke(\n",
    "#     {\n",
    "#         \"context\": \"На хакатоне вам предстоит выполнить задание, которое будет оцениваться по следующим критериям: 1. Сложность задачи. 2. Оригинальность решения. 3. Качество кода. 4. Презентация проекта. 5. Время выполнения задания. 6. Команда. 7. Способность к коммуникации. 8. Способность к самостоятельному решению задач. 9. Способность к работе в команде. 10. Способность к анализу и обобщению информации. 11. Способность к самостоятельному поиску информации. 12. Способность к самостоятельному обучению. 13. Способность к самостоятельному решению проблем. 14. Способность к самостоятельному принятию решений. 15. Способность к самостоятельному принятию ответственности. 16. Способность к самостоятельному принятию решений в сложных ситуациях. 17. Способность к самостоятельному принятию решений в экстремальных ситуациях. 18. Способность к самостоятельному принятию решений в критических ситуациях. 19. Способность к самостоятельному принятию решений в экстренных ситуациях. 20. Способность к самостоятельному принятию решений в нестандартных ситуациях. 21. Способность к самостоятельному принятию решений в нестандартных ситуациях. 22. Способность к самостоятельному принятию решений в нестандартных ситу\", \n",
    "#         \"question\": \"Какое задание на хакатоне?\"\n",
    "#     }\n",
    "# ).to_messages()\n",
    "\n",
    "# assert len(example_messages) == 1\n",
    "# print(example_messages[0].content)"
   ]
  },
  {
   "cell_type": "code",
   "execution_count": 25,
   "metadata": {},
   "outputs": [],
   "source": [
    "class State(TypedDict):\n",
    "    question: str\n",
    "    context: List[Document]\n",
    "    answer: str\n",
    "\n",
    "\n",
    "def retrieve(state: State):\n",
    "    retrieved_docs = vector_store.similarity_search(state[\"question\"])\n",
    "    return {\"context\": retrieved_docs}\n",
    "\n",
    "\n",
    "def generate(state: State):\n",
    "    docs_content = \"\\n\\n\".join(doc.page_content for doc in state[\"context\"])\n",
    "    messages = prompt.invoke({\"question\": state[\"question\"], \"context\": docs_content})\n",
    "    response = llm.invoke(messages)\n",
    "    return {\"answer\": response.content}"
   ]
  },
  {
   "cell_type": "code",
   "execution_count": 26,
   "metadata": {},
   "outputs": [],
   "source": [
    "# Compile application and test\n",
    "graph_builder = StateGraph(State).add_sequence([retrieve, generate])\n",
    "graph_builder.add_edge(START, \"retrieve\")\n",
    "graph = graph_builder.compile()"
   ]
  },
  {
   "cell_type": "code",
   "execution_count": 29,
   "metadata": {},
   "outputs": [
    {
     "data": {
      "image/png": "[encoded data removed]",
      "text/plain": [
       "<IPython.core.display.Image object>"
      ]
     },
     "metadata": {},
     "output_type": "display_data"
    }
   ],
   "source": [
    "from IPython.display import Image, display\n",
    "\n",
    "display(Image(graph.get_graph().draw_mermaid_png()))"
   ]
  },
  {
   "cell_type": "code",
   "execution_count": 31,
   "metadata": {},
   "outputs": [
    {
     "name": "stdout",
     "output_type": "stream",
     "text": [
      "Context: [Document(id='a0e1f505-dedd-4a8a-8b17-46a404025c1a', metadata={'author': 'Зубкова Елена Александровна', 'creationdate': '2025-03-15T09:07:12+03:00', 'creator': 'Writer', 'page': 1, 'page_label': '2', 'producer': 'LibreOffice 24.2', 'source': 'docs/Хакатон 2_описание задания.pdf', 'total_pages': 2}, page_content='\\uf0b7 Решение не должно требовать существенного увеличения программно-\\nтехнических ресурсов.\\n\\uf0b7 При создании решения должны быть минимизированы трудозатраты, \\nособенно программистов.\\n\\uf0b7 Если будут использоваться сторонние решения, то продукт должен \\nбыть open-source, лицензионное соглашение должно позволять \\nиспользовать его в коммерческих целях.'), Document(id='7ef8b787-7900-4df5-b65b-a32cc7a71de0', metadata={'author': 'Зубкова Елена Александровна', 'creationdate': '2025-03-15T09:07:12+03:00', 'creator': 'Writer', 'page': 1, 'page_label': '2', 'producer': 'LibreOffice 24.2', 'source': 'docs/Хакатон 2_описание задания.pdf', 'total_pages': 2}, page_content='\\uf0b7 Решение не должно требовать существенного увеличения программно-\\nтехнических ресурсов.\\n\\uf0b7 При создании решения должны быть минимизированы трудозатраты, \\nособенно программистов.\\n\\uf0b7 Если будут использоваться сторонние решения, то продукт должен \\nбыть open-source, лицензионное соглашение должно позволять \\nиспользовать его в коммерческих целях.'), Document(id='55673298-b380-4906-a00c-85711949b594', metadata={'author': 'Зубкова Елена Александровна', 'creationdate': '2025-03-15T09:07:12+03:00', 'creator': 'Writer', 'page': 0, 'page_label': '1', 'producer': 'LibreOffice 24.2', 'source': 'docs/Хакатон 2_описание задания.pdf', 'total_pages': 2}, page_content='качество разрабатываемых нами продуктов. \\nКак  сделать  наш  процесс  разработки  более  эффективным?  Как  не \\nдопустить потерю информации? Как быстро интегрировать вновь прибывшего \\nсотрудника  в  работу  нашего  подразделения?  Как  оперативно  искать \\nизменения в разработках и оценивать их влияние на другие задачи? – нам  \\nнужен какой-то инструмент, который будет отвечать на все эти вопросы и  \\nпомогать нам с Вами не терять время и повышать качество разрабатываемых  \\nнами продуктов. \\nТребования к выполнению задания:\\n\\uf0b7 Инструмент должен быть универсальным и подходить для всех наших \\nсотрудников, а также другим подразделениям.\\n\\uf0b7 Решение должно быть простым и понятным любому уровню \\nспециалистов.'), Document(id='4809cc09-a396-4faf-b349-06dfb43a3449', metadata={'author': 'Зубкова Елена Александровна', 'creationdate': '2025-03-15T09:07:12+03:00', 'creator': 'Writer', 'page': 0, 'page_label': '1', 'producer': 'LibreOffice 24.2', 'source': 'docs/Хакатон 2_описание задания.pdf', 'total_pages': 2}, page_content='качество разрабатываемых нами продуктов. \\nКак  сделать  наш  процесс  разработки  более  эффективным?  Как  не \\nдопустить потерю информации? Как быстро интегрировать вновь прибывшего \\nсотрудника  в  работу  нашего  подразделения?  Как  оперативно  искать \\nизменения в разработках и оценивать их влияние на другие задачи? – нам  \\nнужен какой-то инструмент, который будет отвечать на все эти вопросы и  \\nпомогать нам с Вами не терять время и повышать качество разрабатываемых  \\nнами продуктов. \\nТребования к выполнению задания:\\n\\uf0b7 Инструмент должен быть универсальным и подходить для всех наших \\nсотрудников, а также другим подразделениям.\\n\\uf0b7 Решение должно быть простым и понятным любому уровню \\nспециалистов.')]\n",
      "\n",
      "\n",
      "Answer: Требования к заданию хакатона следующие:\n",
      "Решение не должно требовать существенного увеличения программно-технических ресурсов, минимизировать трудозатраты, а также использовать сторонние решения, которые должны быть open-source. Инструмент должен быть универсальным и простым для понимания любого уровня специалистов.\n"
     ]
    }
   ],
   "source": [
    "result = graph.invoke({\"question\": \"ПЕречисли требования к заданию хакатона?\"})\n",
    "\n",
    "print(f'Context: {result[\"context\"]}\\n\\n')\n",
    "print(f'Answer: {result[\"answer\"]}')"
   ]
  }
 ],
 "metadata": {
  "kernelspec": {
   "display_name": "venv",
   "language": "python",
   "name": "python3"
  },
  "language_info": {
   "codemirror_mode": {
    "name": "ipython",
    "version": 3
   },
   "file_extension": ".py",
   "mimetype": "text/x-python",
   "name": "python",
   "nbconvert_exporter": "python",
   "pygments_lexer": "ipython3",
   "version": "3.12.3"
  }
 },
 "nbformat": 4,
 "nbformat_minor": 2
}
